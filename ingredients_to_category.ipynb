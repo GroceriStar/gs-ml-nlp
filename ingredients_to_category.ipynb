{
 "cells": [
  {
   "cell_type": "code",
   "execution_count": 62,
   "metadata": {},
   "outputs": [
    {
     "name": "stdout",
     "output_type": "stream",
     "text": [
      "   Ingredients          category\n",
      "0    Asparagus  Fresh Vegetables\n",
      "1     Broccoli  Fresh Vegetables\n",
      "2    Carrots\\t  Fresh Vegetables\n",
      "3  Cauliflower  Fresh Vegetables\n",
      "4       Celery  Fresh Vegetables\n"
     ]
    }
   ],
   "source": [
    "import pandas as pd\n",
    "data=pd.read_csv(\"/Users/akshaychoulwar/Desktop/Akshay/Groceristar/gs-ml-nlp-master/ingredients.csv\")\n",
    "#top five ingredients and categories\n",
    "print(data.head())"
   ]
  },
  {
   "cell_type": "code",
   "execution_count": 63,
   "metadata": {},
   "outputs": [
    {
     "name": "stdout",
     "output_type": "stream",
     "text": [
      "           Ingredients          category\n",
      "count              110               110\n",
      "unique             109                10\n",
      "top     Cottage cheese  Fresh Vegetables\n",
      "freq                 2                16\n",
      "-------------------------------------------------------\n",
      "Ingredients    110\n",
      "category       110\n",
      "dtype: int64\n"
     ]
    }
   ],
   "source": [
    "#description of ingredients.csv\n",
    "print(data.describe())\n",
    "print(\"-------------------------------------------------------\")\n",
    "#number of rows\n",
    "print(data.count())"
   ]
  },
  {
   "cell_type": "code",
   "execution_count": 64,
   "metadata": {},
   "outputs": [
    {
     "name": "stdout",
     "output_type": "stream",
     "text": [
      "0      Asparagus\n",
      "1       Broccoli\n",
      "2      Carrots\\t\n",
      "3    Cauliflower\n",
      "4         Celery\n",
      "Name: Ingredients, dtype: object\n"
     ]
    }
   ],
   "source": [
    "#first five ingredients\n",
    "print((data['Ingredients']).head())"
   ]
  },
  {
   "cell_type": "code",
   "execution_count": 65,
   "metadata": {},
   "outputs": [
    {
     "name": "stdout",
     "output_type": "stream",
     "text": [
      "0    Fresh Vegetables\n",
      "1    Fresh Vegetables\n",
      "2    Fresh Vegetables\n",
      "3    Fresh Vegetables\n",
      "4    Fresh Vegetables\n",
      "Name: category, dtype: object\n"
     ]
    }
   ],
   "source": [
    "#first five categories\n",
    "print((data['category']).head())"
   ]
  },
  {
   "cell_type": "code",
   "execution_count": 66,
   "metadata": {},
   "outputs": [],
   "source": [
    "data_ingre=(data['Ingredients']).tolist()\n",
    "data_cat=(data['category']).tolist()"
   ]
  },
  {
   "cell_type": "code",
   "execution_count": 67,
   "metadata": {},
   "outputs": [],
   "source": [
    "import nltk.classify.util\n",
    "from nltk.classify import NaiveBayesClassifier\n",
    "\n",
    "train_set=[]\n",
    "for i in range(len(data_ingre)):\n",
    "    train_set.append((data_ingre[i],data_cat[i]))\n",
    "    \n",
    "\n",
    "\n",
    "def get_ingre(word):\n",
    "    return {\"ingredient\":word}\n",
    "featuresets=[(get_ingre(n),g) for (n,g) in train_set]\n"
   ]
  },
  {
   "cell_type": "code",
   "execution_count": 68,
   "metadata": {},
   "outputs": [],
   "source": [
    "# traing of dataset\n",
    "classifier=nltk.NaiveBayesClassifier.train(featuresets)"
   ]
  },
  {
   "cell_type": "code",
   "execution_count": 73,
   "metadata": {},
   "outputs": [
    {
     "name": "stdout",
     "output_type": "stream",
     "text": [
      "Dairy\n"
     ]
    }
   ],
   "source": [
    "# predicting category for Salsa \n",
    "print(classifier.classify(get_ingre('Milk')))"
   ]
  },
  {
   "cell_type": "code",
   "execution_count": null,
   "metadata": {
    "collapsed": true
   },
   "outputs": [],
   "source": []
  }
 ],
 "metadata": {
  "kernelspec": {
   "display_name": "Python 2",
   "language": "python",
   "name": "python2"
  },
  "language_info": {
   "codemirror_mode": {
    "name": "ipython",
    "version": 2
   },
   "file_extension": ".py",
   "mimetype": "text/x-python",
   "name": "python",
   "nbconvert_exporter": "python",
   "pygments_lexer": "ipython2",
   "version": "2.7.14"
  }
 },
 "nbformat": 4,
 "nbformat_minor": 2
}
